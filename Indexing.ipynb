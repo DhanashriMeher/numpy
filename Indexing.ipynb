{
 "cells": [
  {
   "cell_type": "code",
   "execution_count": 1,
   "id": "ad98c724",
   "metadata": {},
   "outputs": [],
   "source": [
    "import numpy as np"
   ]
  },
  {
   "cell_type": "code",
   "execution_count": 8,
   "id": "d3c607c9",
   "metadata": {},
   "outputs": [
    {
     "data": {
      "text/plain": [
       "array([[-0.18808385,  1.04737577, -0.66213641, -1.33492902],\n",
       "       [ 0.52351898, -1.02631445,  1.08128606,  0.59580623],\n",
       "       [ 0.30048879, -1.0166055 , -1.38724998, -0.35072554],\n",
       "       [-1.30698362, -1.35377049, -0.84452578, -0.79933836]])"
      ]
     },
     "execution_count": 8,
     "metadata": {},
     "output_type": "execute_result"
    }
   ],
   "source": [
    "a=np.random.randn(4,4)\n",
    "a"
   ]
  },
  {
   "cell_type": "code",
   "execution_count": 11,
   "id": "01758838",
   "metadata": {},
   "outputs": [
    {
     "data": {
      "text/plain": [
       "array([[-0.18808385,  1.04737577, -0.66213641, -1.33492902],\n",
       "       [ 0.52351898, -1.02631445,  1.08128606,  0.59580623],\n",
       "       [ 0.30048879, -1.0166055 , -1.38724998, -0.35072554],\n",
       "       [-1.30698362, -1.35377049, -0.84452578, -0.79933836]])"
      ]
     },
     "execution_count": 11,
     "metadata": {},
     "output_type": "execute_result"
    }
   ],
   "source": [
    "a[:]"
   ]
  },
  {
   "cell_type": "code",
   "execution_count": 12,
   "id": "5fe799ca",
   "metadata": {},
   "outputs": [
    {
     "data": {
      "text/plain": [
       "array([[ 0.52351898, -1.02631445,  1.08128606,  0.59580623],\n",
       "       [ 0.30048879, -1.0166055 , -1.38724998, -0.35072554],\n",
       "       [-1.30698362, -1.35377049, -0.84452578, -0.79933836]])"
      ]
     },
     "execution_count": 12,
     "metadata": {},
     "output_type": "execute_result"
    }
   ],
   "source": [
    "a[1:]"
   ]
  },
  {
   "cell_type": "code",
   "execution_count": 13,
   "id": "d0fe83b9",
   "metadata": {},
   "outputs": [
    {
     "data": {
      "text/plain": [
       "array([[-0.18808385,  1.04737577, -0.66213641, -1.33492902],\n",
       "       [ 0.52351898, -1.02631445,  1.08128606,  0.59580623],\n",
       "       [ 0.30048879, -1.0166055 , -1.38724998, -0.35072554],\n",
       "       [-1.30698362, -1.35377049, -0.84452578, -0.79933836]])"
      ]
     },
     "execution_count": 13,
     "metadata": {},
     "output_type": "execute_result"
    }
   ],
   "source": [
    "a[::]"
   ]
  },
  {
   "cell_type": "code",
   "execution_count": 15,
   "id": "f4f7ba34",
   "metadata": {},
   "outputs": [
    {
     "data": {
      "text/plain": [
       "array([[-0.18808385,  1.04737577, -0.66213641, -1.33492902],\n",
       "       [ 0.52351898, -1.02631445,  1.08128606,  0.59580623]])"
      ]
     },
     "execution_count": 15,
     "metadata": {},
     "output_type": "execute_result"
    }
   ],
   "source": [
    "a[:2:] #rows:columns:step"
   ]
  },
  {
   "cell_type": "code",
   "execution_count": 16,
   "id": "0aae1960",
   "metadata": {},
   "outputs": [
    {
     "data": {
      "text/plain": [
       "array([[-0.18808385,  1.04737577, -0.66213641, -1.33492902],\n",
       "       [ 0.30048879, -1.0166055 , -1.38724998, -0.35072554]])"
      ]
     },
     "execution_count": 16,
     "metadata": {},
     "output_type": "execute_result"
    }
   ],
   "source": [
    "a[::2] "
   ]
  },
  {
   "cell_type": "code",
   "execution_count": 17,
   "id": "9c916866",
   "metadata": {},
   "outputs": [
    {
     "data": {
      "text/plain": [
       "array([[ 0.52351898, -1.02631445,  1.08128606,  0.59580623],\n",
       "       [-1.30698362, -1.35377049, -0.84452578, -0.79933836]])"
      ]
     },
     "execution_count": 17,
     "metadata": {},
     "output_type": "execute_result"
    }
   ],
   "source": [
    "a[1::2]  #1st row,stepping 2"
   ]
  },
  {
   "cell_type": "code",
   "execution_count": 19,
   "id": "7b2a189e",
   "metadata": {},
   "outputs": [
    {
     "data": {
      "text/plain": [
       "array([[ 0.30048879, -1.0166055 , -1.38724998, -0.35072554],\n",
       "       [-1.30698362, -1.35377049, -0.84452578, -0.79933836]])"
      ]
     },
     "execution_count": 19,
     "metadata": {},
     "output_type": "execute_result"
    }
   ],
   "source": [
    "a[-2::]  #accept last 2 rows"
   ]
  },
  {
   "cell_type": "code",
   "execution_count": 25,
   "id": "b8990c2f",
   "metadata": {},
   "outputs": [
    {
     "data": {
      "text/plain": [
       "array([[ 0.52351898, -1.02631445,  1.08128606,  0.59580623],\n",
       "       [ 0.30048879, -1.0166055 , -1.38724998, -0.35072554]])"
      ]
     },
     "execution_count": 25,
     "metadata": {},
     "output_type": "execute_result"
    }
   ],
   "source": [
    "a[1:-1] #middle 2 rows"
   ]
  },
  {
   "cell_type": "code",
   "execution_count": 27,
   "id": "c9fdfc12",
   "metadata": {},
   "outputs": [
    {
     "data": {
      "text/plain": [
       "array([[-0.18808385,  1.04737577, -0.66213641, -1.33492902],\n",
       "       [ 0.30048879, -1.0166055 , -1.38724998, -0.35072554]])"
      ]
     },
     "execution_count": 27,
     "metadata": {},
     "output_type": "execute_result"
    }
   ],
   "source": [
    "a[::2] #1st and last row"
   ]
  },
  {
   "cell_type": "code",
   "execution_count": 32,
   "id": "f327882f",
   "metadata": {},
   "outputs": [
    {
     "data": {
      "text/plain": [
       "array([[ 0.52351898, -1.02631445,  1.08128606,  0.59580623],\n",
       "       [-1.30698362, -1.35377049, -0.84452578, -0.79933836]])"
      ]
     },
     "execution_count": 32,
     "metadata": {},
     "output_type": "execute_result"
    }
   ],
   "source": [
    "a[1::2] #2nd and last row"
   ]
  },
  {
   "cell_type": "code",
   "execution_count": 34,
   "id": "9201a816",
   "metadata": {},
   "outputs": [
    {
     "data": {
      "text/plain": [
       "array([[ 0.52351898, -1.02631445,  1.08128606,  0.59580623],\n",
       "       [ 0.30048879, -1.0166055 , -1.38724998, -0.35072554],\n",
       "       [-1.30698362, -1.35377049, -0.84452578, -0.79933836]])"
      ]
     },
     "execution_count": 34,
     "metadata": {},
     "output_type": "execute_result"
    }
   ],
   "source": [
    "a[-3:] #last 3 rows"
   ]
  },
  {
   "cell_type": "code",
   "execution_count": 39,
   "id": "888856de",
   "metadata": {},
   "outputs": [
    {
     "data": {
      "text/plain": [
       "array([[-0.18808385,  1.04737577, -0.66213641, -1.33492902]])"
      ]
     },
     "execution_count": 39,
     "metadata": {},
     "output_type": "execute_result"
    }
   ],
   "source": [
    "a[:1]  #single 1st column"
   ]
  },
  {
   "cell_type": "code",
   "execution_count": 38,
   "id": "e38da49a",
   "metadata": {},
   "outputs": [
    {
     "data": {
      "text/plain": [
       "array([[-0.18808385,  1.04737577, -0.66213641, -1.33492902],\n",
       "       [ 0.52351898, -1.02631445,  1.08128606,  0.59580623],\n",
       "       [ 0.30048879, -1.0166055 , -1.38724998, -0.35072554],\n",
       "       [-1.30698362, -1.35377049, -0.84452578, -0.79933836]])"
      ]
     },
     "execution_count": 38,
     "metadata": {},
     "output_type": "execute_result"
    }
   ],
   "source": [
    "a[::]"
   ]
  },
  {
   "cell_type": "code",
   "execution_count": 40,
   "id": "0cf939f9",
   "metadata": {},
   "outputs": [
    {
     "data": {
      "text/plain": [
       "array([[ 1.04737577, -0.66213641],\n",
       "       [-1.02631445,  1.08128606],\n",
       "       [-1.0166055 , -1.38724998],\n",
       "       [-1.35377049, -0.84452578]])"
      ]
     },
     "execution_count": 40,
     "metadata": {},
     "output_type": "execute_result"
    }
   ],
   "source": [
    "a[:,1:3]"
   ]
  },
  {
   "cell_type": "code",
   "execution_count": 42,
   "id": "cae7de68",
   "metadata": {},
   "outputs": [
    {
     "data": {
      "text/plain": [
       "array([[ 1.04737577, -0.66213641, -1.33492902],\n",
       "       [-1.02631445,  1.08128606,  0.59580623],\n",
       "       [-1.0166055 , -1.38724998, -0.35072554],\n",
       "       [-1.35377049, -0.84452578, -0.79933836]])"
      ]
     },
     "execution_count": 42,
     "metadata": {},
     "output_type": "execute_result"
    }
   ],
   "source": [
    "a[:,1:]"
   ]
  },
  {
   "cell_type": "code",
   "execution_count": 44,
   "id": "f0811a04",
   "metadata": {},
   "outputs": [
    {
     "data": {
      "text/plain": [
       "array([[ 0.30048879, -1.0166055 , -1.38724998, -0.35072554],\n",
       "       [-1.30698362, -1.35377049, -0.84452578, -0.79933836]])"
      ]
     },
     "execution_count": 44,
     "metadata": {},
     "output_type": "execute_result"
    }
   ],
   "source": [
    "a[2::]"
   ]
  },
  {
   "cell_type": "code",
   "execution_count": 49,
   "id": "dac2e740",
   "metadata": {},
   "outputs": [
    {
     "data": {
      "text/plain": [
       "array([[-0.18808385,  1.04737577, -0.66213641, -1.33492902],\n",
       "       [ 0.52351898, -1.02631445,  1.08128606,  0.59580623]])"
      ]
     },
     "execution_count": 49,
     "metadata": {},
     "output_type": "execute_result"
    }
   ],
   "source": [
    "a[:-2:]"
   ]
  },
  {
   "cell_type": "code",
   "execution_count": 52,
   "id": "1fce11f0",
   "metadata": {},
   "outputs": [
    {
     "data": {
      "text/plain": [
       "array([[ 0.52351898, -1.02631445,  1.08128606,  0.59580623],\n",
       "       [ 0.30048879, -1.0166055 , -1.38724998, -0.35072554]])"
      ]
     },
     "execution_count": 52,
     "metadata": {},
     "output_type": "execute_result"
    }
   ],
   "source": [
    "a[:][1:3]"
   ]
  },
  {
   "cell_type": "code",
   "execution_count": 51,
   "id": "7f35185c",
   "metadata": {},
   "outputs": [
    {
     "data": {
      "text/plain": [
       "array([], shape=(4, 0), dtype=float64)"
      ]
     },
     "execution_count": 51,
     "metadata": {},
     "output_type": "execute_result"
    }
   ],
   "source": [
    "a[:,100:9] #slicing never gives an error it gives empty o/p."
   ]
  },
  {
   "cell_type": "code",
   "execution_count": 59,
   "id": "822c3ea3",
   "metadata": {},
   "outputs": [
    {
     "data": {
      "text/plain": [
       "array([-1.0166055])"
      ]
     },
     "execution_count": 59,
     "metadata": {},
     "output_type": "execute_result"
    }
   ],
   "source": [
    "a[2:3,1]"
   ]
  },
  {
   "cell_type": "code",
   "execution_count": 55,
   "id": "f4d72e39",
   "metadata": {},
   "outputs": [
    {
     "data": {
      "text/plain": [
       "array([[-0.18808385,  1.04737577, -0.66213641, -1.33492902],\n",
       "       [ 0.52351898, -1.02631445,  1.08128606,  0.59580623],\n",
       "       [ 0.30048879, -1.0166055 , -1.38724998, -0.35072554],\n",
       "       [-1.30698362, -1.35377049, -0.84452578, -0.79933836]])"
      ]
     },
     "execution_count": 55,
     "metadata": {},
     "output_type": "execute_result"
    }
   ],
   "source": [
    "a[::]"
   ]
  },
  {
   "cell_type": "code",
   "execution_count": 60,
   "id": "757e453d",
   "metadata": {},
   "outputs": [
    {
     "data": {
      "text/plain": [
       "-0.7993383609758474"
      ]
     },
     "execution_count": 60,
     "metadata": {},
     "output_type": "execute_result"
    }
   ],
   "source": [
    "a[-1][-1]  #last element"
   ]
  },
  {
   "cell_type": "code",
   "execution_count": 70,
   "id": "92541c3b",
   "metadata": {},
   "outputs": [
    {
     "data": {
      "text/plain": [
       "array([[ 0.30048879, -1.0166055 ],\n",
       "       [-1.30698362, -1.35377049]])"
      ]
     },
     "execution_count": 70,
     "metadata": {},
     "output_type": "execute_result"
    }
   ],
   "source": [
    "a[-2:][:,:-2] #last  rows and 1st 2 values from each row."
   ]
  },
  {
   "cell_type": "code",
   "execution_count": 72,
   "id": "a3feabb0",
   "metadata": {},
   "outputs": [
    {
     "data": {
      "text/plain": [
       "array([[ 1.04737577, -0.66213641],\n",
       "       [-1.02631445,  1.08128606],\n",
       "       [-1.0166055 , -1.38724998],\n",
       "       [-1.35377049, -0.84452578]])"
      ]
     },
     "execution_count": 72,
     "metadata": {},
     "output_type": "execute_result"
    }
   ],
   "source": [
    "a[:,1:3]  #access middle 2 columns"
   ]
  },
  {
   "cell_type": "code",
   "execution_count": 75,
   "id": "7b7a870a",
   "metadata": {},
   "outputs": [
    {
     "data": {
      "text/plain": [
       "array([[ 0.52351898, -1.02631445,  1.08128606,  0.59580623],\n",
       "       [ 0.30048879, -1.0166055 , -1.38724998, -0.35072554]])"
      ]
     },
     "execution_count": 75,
     "metadata": {},
     "output_type": "execute_result"
    }
   ],
   "source": [
    "a[1:3] #middle 2 rows"
   ]
  },
  {
   "cell_type": "code",
   "execution_count": 91,
   "id": "fb2a305e",
   "metadata": {},
   "outputs": [
    {
     "data": {
      "text/plain": [
       "array([[-1.30698362, -1.35377049, -0.84452578, -0.79933836],\n",
       "       [ 0.30048879, -1.0166055 , -1.38724998, -0.35072554],\n",
       "       [ 0.52351898, -1.02631445,  1.08128606,  0.59580623],\n",
       "       [-0.18808385,  1.04737577, -0.66213641, -1.33492902]])"
      ]
     },
     "execution_count": 91,
     "metadata": {},
     "output_type": "execute_result"
    }
   ],
   "source": [
    "a[::-1]  #reverse column"
   ]
  },
  {
   "cell_type": "code",
   "execution_count": 93,
   "id": "8bb478dd",
   "metadata": {},
   "outputs": [
    {
     "data": {
      "text/plain": [
       "array([[-0.18808385,  1.04737577, -0.66213641, -1.33492902],\n",
       "       [ 0.52351898, -1.02631445,  1.08128606,  0.59580623],\n",
       "       [ 0.30048879, -1.0166055 , -1.38724998, -0.35072554],\n",
       "       [-1.30698362, -1.35377049, -0.84452578, -0.79933836]])"
      ]
     },
     "execution_count": 93,
     "metadata": {},
     "output_type": "execute_result"
    }
   ],
   "source": [
    "a[::]"
   ]
  },
  {
   "cell_type": "code",
   "execution_count": 101,
   "id": "f43dfcaa",
   "metadata": {},
   "outputs": [
    {
     "data": {
      "text/plain": [
       "array([[-1.33492902, -0.66213641,  1.04737577, -0.18808385],\n",
       "       [ 0.59580623,  1.08128606, -1.02631445,  0.52351898],\n",
       "       [-0.35072554, -1.38724998, -1.0166055 ,  0.30048879],\n",
       "       [-0.79933836, -0.84452578, -1.35377049, -1.30698362]])"
      ]
     },
     "execution_count": 101,
     "metadata": {},
     "output_type": "execute_result"
    }
   ],
   "source": [
    "np.fliplr(a) #flip array from right to left"
   ]
  },
  {
   "cell_type": "code",
   "execution_count": 102,
   "id": "75bcc158",
   "metadata": {},
   "outputs": [
    {
     "data": {
      "text/plain": [
       "array([[-1.30698362, -1.35377049, -0.84452578, -0.79933836],\n",
       "       [ 0.30048879, -1.0166055 , -1.38724998, -0.35072554],\n",
       "       [ 0.52351898, -1.02631445,  1.08128606,  0.59580623],\n",
       "       [-0.18808385,  1.04737577, -0.66213641, -1.33492902]])"
      ]
     },
     "execution_count": 102,
     "metadata": {},
     "output_type": "execute_result"
    }
   ],
   "source": [
    "np.flipud(a) #flip array from bottom to up"
   ]
  },
  {
   "cell_type": "code",
   "execution_count": 103,
   "id": "83555957",
   "metadata": {},
   "outputs": [
    {
     "data": {
      "text/plain": [
       "array([[-0.18808385, -1.33492902],\n",
       "       [-1.30698362, -0.79933836]])"
      ]
     },
     "execution_count": 103,
     "metadata": {},
     "output_type": "execute_result"
    }
   ],
   "source": [
    "a[::a.shape[0]-1, ::a.shape[1]-1]  #corner elements"
   ]
  },
  {
   "cell_type": "code",
   "execution_count": 105,
   "id": "50783a8f",
   "metadata": {},
   "outputs": [
    {
     "data": {
      "text/plain": [
       "array([-0.18808385, -1.02631445, -1.38724998, -0.79933836])"
      ]
     },
     "execution_count": 105,
     "metadata": {},
     "output_type": "execute_result"
    }
   ],
   "source": [
    "np.diag(a) #diagonal elements"
   ]
  },
  {
   "cell_type": "code",
   "execution_count": 106,
   "id": "6950ba34",
   "metadata": {},
   "outputs": [
    {
     "data": {
      "text/plain": [
       "array([[-0.18808385,  1.04737577, -0.66213641, -1.33492902],\n",
       "       [ 0.52351898, -1.02631445,  1.08128606,  0.59580623],\n",
       "       [ 0.30048879, -1.0166055 , -1.38724998, -0.35072554],\n",
       "       [-1.30698362, -1.35377049, -0.84452578, -0.79933836]])"
      ]
     },
     "execution_count": 106,
     "metadata": {},
     "output_type": "execute_result"
    }
   ],
   "source": [
    "a[::]"
   ]
  },
  {
   "cell_type": "code",
   "execution_count": 108,
   "id": "4c5d1d64",
   "metadata": {},
   "outputs": [
    {
     "data": {
      "text/plain": [
       "array([[-0.18808385,  0.52351898,  0.30048879, -1.30698362],\n",
       "       [ 1.04737577, -1.02631445, -1.0166055 , -1.35377049],\n",
       "       [-0.66213641,  1.08128606, -1.38724998, -0.84452578],\n",
       "       [-1.33492902,  0.59580623, -0.35072554, -0.79933836]])"
      ]
     },
     "execution_count": 108,
     "metadata": {},
     "output_type": "execute_result"
    }
   ],
   "source": [
    "np.transpose(a)"
   ]
  },
  {
   "cell_type": "code",
   "execution_count": 109,
   "id": "76c7250b",
   "metadata": {},
   "outputs": [
    {
     "data": {
      "text/plain": [
       "array([-0.18808385,  1.04737577, -0.66213641, -1.33492902,  0.52351898,\n",
       "       -1.02631445,  1.08128606,  0.59580623,  0.30048879, -1.0166055 ,\n",
       "       -1.38724998, -0.35072554, -1.30698362, -1.35377049, -0.84452578,\n",
       "       -0.79933836])"
      ]
     },
     "execution_count": 109,
     "metadata": {},
     "output_type": "execute_result"
    }
   ],
   "source": [
    "np.ravel(a) #converts any dimension array to 1D. this operation is temporary."
   ]
  },
  {
   "cell_type": "code",
   "execution_count": 114,
   "id": "a8372d55",
   "metadata": {},
   "outputs": [
    {
     "data": {
      "text/plain": [
       "array([-0.18808385,  1.04737577, -0.66213641, -1.33492902,  0.52351898,\n",
       "       -1.02631445,  1.08128606,  0.59580623,  0.30048879, -1.0166055 ])"
      ]
     },
     "execution_count": 114,
     "metadata": {},
     "output_type": "execute_result"
    }
   ],
   "source": [
    "np.resize(a,10)  #it converts an array into any dimensions. It converts in 1D."
   ]
  },
  {
   "cell_type": "code",
   "execution_count": 113,
   "id": "4ef8a2ad",
   "metadata": {},
   "outputs": [
    {
     "data": {
      "text/plain": [
       "array([[-0.18808385,  1.04737577, -0.66213641, -1.33492902],\n",
       "       [ 0.52351898, -1.02631445,  1.08128606,  0.59580623],\n",
       "       [ 0.30048879, -1.0166055 , -1.38724998, -0.35072554],\n",
       "       [-1.30698362, -1.35377049, -0.84452578, -0.79933836]])"
      ]
     },
     "execution_count": 113,
     "metadata": {},
     "output_type": "execute_result"
    }
   ],
   "source": [
    "a"
   ]
  },
  {
   "cell_type": "code",
   "execution_count": null,
   "id": "2b40c2ab",
   "metadata": {},
   "outputs": [],
   "source": []
  }
 ],
 "metadata": {
  "kernelspec": {
   "display_name": "Python 3 (ipykernel)",
   "language": "python",
   "name": "python3"
  },
  "language_info": {
   "codemirror_mode": {
    "name": "ipython",
    "version": 3
   },
   "file_extension": ".py",
   "mimetype": "text/x-python",
   "name": "python",
   "nbconvert_exporter": "python",
   "pygments_lexer": "ipython3",
   "version": "3.9.13"
  }
 },
 "nbformat": 4,
 "nbformat_minor": 5
}
